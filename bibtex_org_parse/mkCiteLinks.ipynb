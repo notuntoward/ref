{
 "cells": [
  {
   "cell_type": "markdown",
   "metadata": {},
   "source": [
    "### Convert energytop.org standard bib links to cite: links\n",
    "This works fine, but it slows down ivy search and file opening b/c there were\n",
    "so many plain bib links that are replaced with slower cite: links.\n",
    "So, do this when break up energytop.org.  In individual .org files, this won't matter, \n",
    "Except for when the org-roam DB is updated."
   ]
  },
  {
   "cell_type": "code",
   "execution_count": 1,
   "metadata": {},
   "outputs": [],
   "source": [
    "from pathlib import Path\n",
    "import re"
   ]
  },
  {
   "cell_type": "code",
   "execution_count": 2,
   "metadata": {},
   "outputs": [],
   "source": [
    "orgDirBase = Path(\"C:/Users/scott/OneDrive - Clean Power Research/ref\")\n",
    "\n",
    "orgInNm = \"energytop\"\n",
    "orgInFNm = orgDirBase / f\"{orgInNm}.org\"\n",
    "orgOutDir = orgDirBase\n",
    "orgOutFNm = orgOutDir / f\"tmp_{orgInNm}_citelinks.org\""
   ]
  },
  {
   "cell_type": "code",
   "execution_count": 3,
   "metadata": {},
   "outputs": [],
   "source": [
    "with open(orgInFNm, encoding=\"utf8\") as fp:\n",
    "    orgtxt = fp.read()"
   ]
  },
  {
   "cell_type": "code",
   "execution_count": 4,
   "metadata": {},
   "outputs": [],
   "source": [
    "orgtxt = re.sub(r\"\\[\\[file:.*?.bib::(.*?)\\]\\[(.*?)\\]\\]\",\n",
    "                r\"[[cite:\\1][\\2]]\",\n",
    "                orgtxt)"
   ]
  },
  {
   "cell_type": "code",
   "execution_count": 7,
   "metadata": {},
   "outputs": [
    {
     "name": "stdout",
     "output_type": "stream",
     "text": [
      "Writing to C:\\Users\\scott\\OneDrive - Clean Power Research\\ref\\tmp_energytop_citelinks.org ...\n"
     ]
    }
   ],
   "source": [
    "print(f\"Writing to {orgOutFNm} ...\")\n",
    "# keep UTF8 b/c of the German and whatever, force unix newlines to avoid emacs ^M @ line ends\n",
    "with open(orgOutFNm, 'w', encoding=\"utf8\", newline='\\n') as fp:\n",
    "    fp.write(orgtxt)"
   ]
  }
 ],
 "metadata": {
  "jupytext": {
   "cell_metadata_filter": "-all",
   "formats": "ipynb,py:percent",
   "notebook_metadata_filter": "-all"
  },
  "kernelspec": {
   "display_name": "Python 3",
   "language": "python",
   "name": "python3"
  },
  "language_info": {
   "codemirror_mode": {
    "name": "ipython",
    "version": 3
   },
   "file_extension": ".py",
   "mimetype": "text/x-python",
   "name": "python",
   "nbconvert_exporter": "python",
   "pygments_lexer": "ipython3",
   "version": "3.8.5"
  }
 },
 "nbformat": 4,
 "nbformat_minor": 4
}
