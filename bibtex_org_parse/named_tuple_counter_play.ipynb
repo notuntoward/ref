{
 "cells": [
  {
   "cell_type": "markdown",
   "metadata": {},
   "source": [
    "#### Examples from this article\n",
    "https://towardsdatascience.com/the-most-undervalued-standard-python-library-14021632f692"
   ]
  },
  {
   "cell_type": "markdown",
   "metadata": {},
   "source": [
    "#### **namedtuple**: a cleaner looking dict that's immutable"
   ]
  },
  {
   "cell_type": "code",
   "execution_count": 5,
   "metadata": {},
   "outputs": [
    {
     "name": "stdout",
     "output_type": "stream",
     "text": [
      "Features(age=22, gender='male', name='Alex')\n",
      "Alex\n"
     ]
    }
   ],
   "source": [
    "from collections import namedtuple\n",
    "Features = namedtuple('Features',['age','gender','name'])\n",
    "row = Features(age=22, gender='male', name='Alex')\n",
    "print(row)\n",
    "print(row.name)  # nice that don't need brackets, like w/ dict()"
   ]
  },
  {
   "cell_type": "markdown",
   "metadata": {},
   "source": [
    "#### **counter**: a hist() alternative that can caount non-numbers"
   ]
  },
  {
   "cell_type": "code",
   "execution_count": 16,
   "metadata": {},
   "outputs": [
    {
     "name": "stdout",
     "output_type": "stream",
     "text": [
      "[(4, 3), (21, 2), (34, 2), (22, 1), (10, 1)]\n"
     ]
    }
   ],
   "source": [
    "from collections import Counter\n",
    "ages = [22,21,34,4,21, 34,4,4,10]\n",
    "counts = Counter(ages)\n",
    "print(counts)\n",
    "print(counts.most_common()) # named tuples: ordered by count.  Most common is 4 which has 3 copies"
   ]
  },
  {
   "cell_type": "code",
   "execution_count": 24,
   "metadata": {},
   "outputs": [
    {
     "name": "stdout",
     "output_type": "stream",
     "text": [
      "Counter({'fred': 3, 'jill': 2, 'candy': 2, 'jack': 1, 'cranky': 1})\n",
      "3\n",
      "[('fred', 3), ('jill', 2), ('candy', 2), ('jack', 1), ('cranky', 1)]\n",
      "least common was ('cranky', 1)\n"
     ]
    }
   ],
   "source": [
    "firstNames = ['fred', 'jack', 'jill', 'fred', 'cranky', 'fred', 'candy',\n",
    "              'jill', 'candy']\n",
    "counts = Counter(firstNames)\n",
    "print(counts)\n",
    "\n",
    "print(counts['fred'])  # too bad about the brackets\n",
    "# print(namedtuple(counts).fred) # nah, doesn't work\n",
    "\n",
    "sorted_counts = counts.most_common()\n",
    "print(sorted_counts)\n",
    "print(f\"least common was {sorted_counts[-1]}\")"
   ]
  }
 ],
 "metadata": {
  "kernelspec": {
   "display_name": "Python 3",
   "language": "python",
   "name": "python3"
  },
  "language_info": {
   "codemirror_mode": {
    "name": "ipython",
    "version": 3
   },
   "file_extension": ".py",
   "mimetype": "text/x-python",
   "name": "python",
   "nbconvert_exporter": "python",
   "pygments_lexer": "ipython3",
   "version": "3.8.5"
  }
 },
 "nbformat": 4,
 "nbformat_minor": 4
}
