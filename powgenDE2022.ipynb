{
 "cells": [
  {
   "cell_type": "code",
   "execution_count": 5,
   "metadata": {},
   "outputs": [
    {
     "data": {
      "text/plain": [
       "27.88574527704963"
      ]
     },
     "execution_count": 5,
     "metadata": {},
     "output_type": "execute_result"
    }
   ],
   "source": [
    "import pandas as pd\n",
    "\n",
    "# From: https://www.ise.fraunhofer.de/en/press-media/press-releases/2023/net-electricity-generation-in-germany-in-2022-significant-increase-in-generation-from-wind-and-pv.html\n",
    "\n",
    "powconsumed = pd.Series([15, 4.22, 57.6, 123.4, 106.9, 55.5, 47.1, 32.8])\n",
    "powconsumed.sum()\n",
    "\n",
    "windconsumed = 123.4\n",
    "\n",
    "windconsumed/powconsumed.sum() * 100\n",
    "\n"
   ]
  },
  {
   "cell_type": "code",
   "execution_count": null,
   "metadata": {},
   "outputs": [],
   "source": []
  }
 ],
 "metadata": {
  "kernelspec": {
   "display_name": "priceFrcstAEMO",
   "language": "python",
   "name": "python3"
  },
  "language_info": {
   "codemirror_mode": {
    "name": "ipython",
    "version": 3
   },
   "file_extension": ".py",
   "mimetype": "text/x-python",
   "name": "python",
   "nbconvert_exporter": "python",
   "pygments_lexer": "ipython3",
   "version": "3.12.2"
  }
 },
 "nbformat": 4,
 "nbformat_minor": 2
}
