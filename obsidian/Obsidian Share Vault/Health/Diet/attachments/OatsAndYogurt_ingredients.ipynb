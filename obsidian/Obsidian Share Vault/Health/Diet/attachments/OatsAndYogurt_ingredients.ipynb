{
 "cells": [
  {
   "cell_type": "markdown",
   "metadata": {},
   "source": [
    "### My dry oatmeal and yogurt mix: How much of what ingredient is in my typical bowl?\n",
    "\n",
    "In my small Ikea bowl, the kind that gets black marks inside (not the big ones I bought at Rewe, in Kassel)."
   ]
  },
  {
   "cell_type": "code",
   "execution_count": 1,
   "metadata": {},
   "outputs": [],
   "source": [
    "import pandas as pd\n",
    "\n",
    "nBowlsPerBigContainer = 13 # it was somewhere betweed 12 and 14, I think"
   ]
  },
  {
   "cell_type": "code",
   "execution_count": 2,
   "metadata": {},
   "outputs": [
    {
     "data": {
      "text/html": [
       "<div>\n",
       "<style scoped>\n",
       "    .dataframe tbody tr th:only-of-type {\n",
       "        vertical-align: middle;\n",
       "    }\n",
       "\n",
       "    .dataframe tbody tr th {\n",
       "        vertical-align: top;\n",
       "    }\n",
       "\n",
       "    .dataframe thead th {\n",
       "        text-align: right;\n",
       "    }\n",
       "</style>\n",
       "<table border=\"1\" class=\"dataframe\">\n",
       "  <thead>\n",
       "    <tr style=\"text-align: right;\">\n",
       "      <th>Container</th>\n",
       "      <th>Big Plastic</th>\n",
       "      <th>Bowl</th>\n",
       "    </tr>\n",
       "    <tr>\n",
       "      <th>Ingredient</th>\n",
       "      <th></th>\n",
       "      <th></th>\n",
       "    </tr>\n",
       "  </thead>\n",
       "  <tbody>\n",
       "    <tr>\n",
       "      <th>Oats</th>\n",
       "      <td>407.0</td>\n",
       "      <td>31.307692</td>\n",
       "    </tr>\n",
       "    <tr>\n",
       "      <th>Walnuts</th>\n",
       "      <td>138.0</td>\n",
       "      <td>10.615385</td>\n",
       "    </tr>\n",
       "    <tr>\n",
       "      <th>Almonds</th>\n",
       "      <td>100.0</td>\n",
       "      <td>7.692308</td>\n",
       "    </tr>\n",
       "    <tr>\n",
       "      <th>PumpkinSeeds</th>\n",
       "      <td>70.0</td>\n",
       "      <td>5.384615</td>\n",
       "    </tr>\n",
       "    <tr>\n",
       "      <th>FlaxSeeds</th>\n",
       "      <td>80.0</td>\n",
       "      <td>6.153846</td>\n",
       "    </tr>\n",
       "    <tr>\n",
       "      <th>ChiaSeeds</th>\n",
       "      <td>72.0</td>\n",
       "      <td>5.538462</td>\n",
       "    </tr>\n",
       "    <tr>\n",
       "      <th>Yogurt1Pct</th>\n",
       "      <td>NaN</td>\n",
       "      <td>240.000000</td>\n",
       "    </tr>\n",
       "    <tr>\n",
       "      <th>Raspberries</th>\n",
       "      <td>NaN</td>\n",
       "      <td>108.000000</td>\n",
       "    </tr>\n",
       "  </tbody>\n",
       "</table>\n",
       "</div>"
      ],
      "text/plain": [
       "Container     Big Plastic        Bowl\n",
       "Ingredient                           \n",
       "Oats                407.0   31.307692\n",
       "Walnuts             138.0   10.615385\n",
       "Almonds             100.0    7.692308\n",
       "PumpkinSeeds         70.0    5.384615\n",
       "FlaxSeeds            80.0    6.153846\n",
       "ChiaSeeds            72.0    5.538462\n",
       "Yogurt1Pct            NaN  240.000000\n",
       "Raspberries           NaN  108.000000"
      ]
     },
     "execution_count": 2,
     "metadata": {},
     "output_type": "execute_result"
    }
   ],
   "source": [
    "# What goes into my big plastic cereal container\n",
    "ingredient_grams=pd.DataFrame(pd.Series(dict(Oats=407, Walnuts=138, Almonds=100, \n",
    "                              PumpkinSeeds=70, FlaxSeeds=80, ChiaSeeds=72))).T\n",
    "ingredient_grams.index = ['Big Plastic']\n",
    "ingredient_grams = ingredient_grams.rename_axis('Container')\n",
    "ingredient_grams.columns.name='Ingredient'\n",
    "\n",
    "# Dry ingredients in one bowl\n",
    "ingredient_grams.loc['Bowl'] = ingredient_grams.loc['Big Plastic'] / nBowlsPerBigContainer\n",
    "\n",
    "# Yogurt and fruit in one bowl\n",
    "ingredient_grams.loc[('Bowl','Yogurt1Pct')] = 240\n",
    "ingredient_grams.loc[('Bowl','Raspberries')] = 108\n",
    "ingredient_grams.T"
   ]
  },
  {
   "cell_type": "code",
   "execution_count": 3,
   "metadata": {},
   "outputs": [
    {
     "data": {
      "text/plain": [
       "Ingredient\n",
       "Oats             31.307692\n",
       "Walnuts          10.615385\n",
       "Almonds           7.692308\n",
       "PumpkinSeeds      5.384615\n",
       "FlaxSeeds         6.153846\n",
       "ChiaSeeds         5.538462\n",
       "Yogurt1Pct      240.000000\n",
       "Raspberries     108.000000\n",
       "Name: Bowl, dtype: float64"
      ]
     },
     "execution_count": 3,
     "metadata": {},
     "output_type": "execute_result"
    }
   ],
   "source": [
    "ingredient_grams.loc['Bowl']"
   ]
  }
 ],
 "metadata": {
  "kernelspec": {
   "display_name": "refwrangle",
   "language": "python",
   "name": "python3"
  },
  "language_info": {
   "codemirror_mode": {
    "name": "ipython",
    "version": 3
   },
   "file_extension": ".py",
   "mimetype": "text/x-python",
   "name": "python",
   "nbconvert_exporter": "python",
   "pygments_lexer": "ipython3",
   "version": "3.13.0"
  }
 },
 "nbformat": 4,
 "nbformat_minor": 2
}
