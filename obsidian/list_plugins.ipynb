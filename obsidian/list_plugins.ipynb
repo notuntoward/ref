{
 "cells": [
  {
   "cell_type": "code",
   "execution_count": 2,
   "metadata": {},
   "outputs": [
    {
     "name": "stdout",
     "output_type": "stream",
     "text": [
      "List of installed plugins has been saved to installed_plugins.txt\n"
     ]
    }
   ],
   "source": [
    "import os\n",
    "import json\n",
    "import pathlib as pl\n",
    "\n",
    "# Path to your Obsidian vault\n",
    "vault_path = pl.Path(r'C:\\Users\\scott\\OneDrive\\share\\ref\\obsidian\\Obsidian Share Vault')\n",
    "\n",
    "# Path to the plugins directory\n",
    "plugins_dir = os.path.join(vault_path, '.obsidian', 'plugins')\n",
    "\n",
    "# List to hold the names of installed plugins\n",
    "installed_plugins = []\n",
    "\n",
    "# Iterate over each folder in the plugins directory\n",
    "for plugin_folder in os.listdir(plugins_dir):\n",
    "    folder_path = os.path.join(plugins_dir, plugin_folder)\n",
    "    if os.path.isdir(folder_path):\n",
    "        # Path to the manifest.json file for the plugin\n",
    "        manifest_path = os.path.join(folder_path, 'manifest.json')\n",
    "        if os.path.isfile(manifest_path):\n",
    "            with open(manifest_path, 'r') as manifest_file:\n",
    "                manifest_data = json.load(manifest_file)\n",
    "                # Add the plugin name to the list\n",
    "                installed_plugins.append(manifest_data['name'])\n",
    "\n",
    "# Write the list of installed plugins to a file\n",
    "with open('installed_plugins.txt', 'w') as file:\n",
    "    for plugin_name in installed_plugins:\n",
    "        file.write(f\"{plugin_name}\\n\")\n",
    "\n",
    "print(\"List of installed plugins has been saved to installed_plugins.txt\")"
   ]
  }
 ],
 "metadata": {
  "kernelspec": {
   "display_name": "base",
   "language": "python",
   "name": "python3"
  },
  "language_info": {
   "codemirror_mode": {
    "name": "ipython",
    "version": 3
   },
   "file_extension": ".py",
   "mimetype": "text/x-python",
   "name": "python",
   "nbconvert_exporter": "python",
   "pygments_lexer": "ipython3",
   "version": "3.9.18"
  }
 },
 "nbformat": 4,
 "nbformat_minor": 2
}
