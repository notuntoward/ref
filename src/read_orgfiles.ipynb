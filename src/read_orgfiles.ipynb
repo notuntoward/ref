{
 "cells": [
  {
   "cell_type": "code",
   "execution_count": 7,
   "metadata": {},
   "outputs": [
    {
     "ename": "ImportError",
     "evalue": "cannot import name 'Emacs' from 'emacs' (c:\\Users\\scott\\miniconda3\\lib\\site-packages\\emacs\\__init__.py)",
     "output_type": "error",
     "traceback": [
      "\u001b[1;31m---------------------------------------------------------------------------\u001b[0m",
      "\u001b[1;31mImportError\u001b[0m                               Traceback (most recent call last)",
      "\u001b[1;32mUntitled-1.ipynb Cell 1'\u001b[0m in \u001b[0;36m<cell line: 3>\u001b[1;34m()\u001b[0m\n\u001b[0;32m      <a href='vscode-notebook-cell:Untitled-1.ipynb?jupyter-notebook#ch0000000untitled?line=0'>1</a>\u001b[0m \u001b[39m# from emacs import EmacsClient\u001b[39;00m\n\u001b[0;32m      <a href='vscode-notebook-cell:Untitled-1.ipynb?jupyter-notebook#ch0000000untitled?line=1'>2</a>\u001b[0m \u001b[39m# emacs = EmacsClient()\u001b[39;00m\n\u001b[1;32m----> <a href='vscode-notebook-cell:Untitled-1.ipynb?jupyter-notebook#ch0000000untitled?line=2'>3</a>\u001b[0m \u001b[39mfrom\u001b[39;00m \u001b[39memacs\u001b[39;00m \u001b[39mimport\u001b[39;00m Emacs\n\u001b[0;32m      <a href='vscode-notebook-cell:Untitled-1.ipynb?jupyter-notebook#ch0000000untitled?line=3'>4</a>\u001b[0m emacs \u001b[39m=\u001b[39m Emacs\u001b[39m.\u001b[39mclient()\n\u001b[0;32m      <a href='vscode-notebook-cell:Untitled-1.ipynb?jupyter-notebook#ch0000000untitled?line=4'>5</a>\u001b[0m emacs\u001b[39m.\u001b[39mgetresult(\u001b[39m'\u001b[39m\u001b[39m(+ 1 2)\u001b[39m\u001b[39m'\u001b[39m)\n",
      "\u001b[1;31mImportError\u001b[0m: cannot import name 'Emacs' from 'emacs' (c:\\Users\\scott\\miniconda3\\lib\\site-packages\\emacs\\__init__.py)"
     ]
    }
   ],
   "source": [
    "# from emacs import EmacsClient\n",
    "# emacs = EmacsClient()\n",
    "from emacs import Emacs\n",
    "emacs = Emacs.client()\n",
    "emacs.getresult('(+ 1 2)')"
   ]
  },
  {
   "cell_type": "code",
   "execution_count": null,
   "metadata": {},
   "outputs": [],
   "source": [
    "emacs.ru"
   ]
  },
  {
   "cell_type": "code",
   "execution_count": 8,
   "metadata": {},
   "outputs": [
    {
     "data": {
      "text/plain": [
       "3"
      ]
     },
     "execution_count": 8,
     "metadata": {},
     "output_type": "execute_result"
    }
   ],
   "source": [
    "from emacs import EmacsBatch\n",
    "emacs = EmacsBatch(args=['-Q']) \n",
    "emacs.eval('(+ 1 2)')"
   ]
  },
  {
   "cell_type": "code",
   "execution_count": 9,
   "metadata": {},
   "outputs": [
    {
     "ename": "AttributeError",
     "evalue": "'EmacsBatch' object has no attribute 'splitlines'",
     "output_type": "error",
     "traceback": [
      "\u001b[1;31m---------------------------------------------------------------------------\u001b[0m",
      "\u001b[1;31mAttributeError\u001b[0m                            Traceback (most recent call last)",
      "\u001b[1;32mUntitled-1.ipynb Cell 4'\u001b[0m in \u001b[0;36m<cell line: 2>\u001b[1;34m()\u001b[0m\n\u001b[0;32m      <a href='vscode-notebook-cell:Untitled-1.ipynb?jupyter-notebook#ch0000005untitled?line=0'>1</a>\u001b[0m \u001b[39mfrom\u001b[39;00m \u001b[39mpyorg\u001b[39;00m \u001b[39mimport\u001b[39;00m Org\n\u001b[1;32m----> <a href='vscode-notebook-cell:Untitled-1.ipynb?jupyter-notebook#ch0000005untitled?line=1'>2</a>\u001b[0m org \u001b[39m=\u001b[39m Org(emacs)\n\u001b[0;32m      <a href='vscode-notebook-cell:Untitled-1.ipynb?jupyter-notebook#ch0000005untitled?line=2'>3</a>\u001b[0m org\u001b[39m.\u001b[39morgdir  \u001b[39m# Obtained automatically from org-directory variable in Emacs\u001b[39;00m\n\u001b[0;32m      <a href='vscode-notebook-cell:Untitled-1.ipynb?jupyter-notebook#ch0000005untitled?line=3'>4</a>\u001b[0m OrgDir(\u001b[39mr\u001b[39m\u001b[39m\"\u001b[39m\u001b[39mC:\u001b[39m\u001b[39m\\\u001b[39m\u001b[39mUsers\u001b[39m\u001b[39m\\\u001b[39m\u001b[39mscott\u001b[39m\u001b[39m\\\u001b[39m\u001b[39mOneDrive\u001b[39m\u001b[39m\\\u001b[39m\u001b[39mshare\u001b[39m\u001b[39m\\\u001b[39m\u001b[39mref\u001b[39m\u001b[39m\"\u001b[39m)\n",
      "File \u001b[1;32mc:\\Users\\scott\\miniconda3\\lib\\site-packages\\pyorg\\org.py:460\u001b[0m, in \u001b[0;36mOrg.__init__\u001b[1;34m(self, text, default_heading)\u001b[0m\n\u001b[0;32m    458\u001b[0m \u001b[39mself\u001b[39m\u001b[39m.\u001b[39msrc_flg \u001b[39m=\u001b[39m \u001b[39mFalse\u001b[39;00m\n\u001b[0;32m    459\u001b[0m \u001b[39mself\u001b[39m\u001b[39m.\u001b[39mdefault_heading \u001b[39m=\u001b[39m default_heading\n\u001b[1;32m--> 460\u001b[0m \u001b[39mself\u001b[39;49m\u001b[39m.\u001b[39;49m_parse(\u001b[39mself\u001b[39;49m\u001b[39m.\u001b[39;49mtext)\n",
      "File \u001b[1;32mc:\\Users\\scott\\miniconda3\\lib\\site-packages\\pyorg\\org.py:466\u001b[0m, in \u001b[0;36mOrg._parse\u001b[1;34m(self, text)\u001b[0m\n\u001b[0;32m    465\u001b[0m \u001b[39mdef\u001b[39;00m \u001b[39m_parse\u001b[39m(\u001b[39mself\u001b[39m, text):\n\u001b[1;32m--> 466\u001b[0m     text \u001b[39m=\u001b[39m text\u001b[39m.\u001b[39;49msplitlines()\n\u001b[0;32m    467\u001b[0m     \u001b[39mfor\u001b[39;00m line \u001b[39min\u001b[39;00m text:\n\u001b[0;32m    468\u001b[0m         \u001b[39mif\u001b[39;00m \u001b[39mself\u001b[39m\u001b[39m.\u001b[39msrc_flg \u001b[39mand\u001b[39;00m \u001b[39mnot\u001b[39;00m \u001b[39mself\u001b[39m\u001b[39m.\u001b[39mregexps[\u001b[39m'\u001b[39m\u001b[39msrc_end\u001b[39m\u001b[39m'\u001b[39m]\u001b[39m.\u001b[39mmatch(line):\n",
      "\u001b[1;31mAttributeError\u001b[0m: 'EmacsBatch' object has no attribute 'splitlines'"
     ]
    }
   ],
   "source": [
    "from pyorg import Org\n",
    "org = Org(emacs)\n",
    "org.orgdir  # Obtained automatically from org-directory variable in Emacs\n",
    "OrgDir(r\"C:\\Users\\scott\\OneDrive\\share\\ref\")\n",
    "\n",
    "for file in org.orgdir.list_files(recursive=True):\n",
    "    print(file)\n"
   ]
  },
  {
   "cell_type": "code",
   "execution_count": null,
   "metadata": {},
   "outputs": [],
   "source": []
  }
 ],
 "metadata": {
  "kernelspec": {
   "display_name": "Python 3.9.7 ('base')",
   "language": "python",
   "name": "python3"
  },
  "language_info": {
   "codemirror_mode": {
    "name": "ipython",
    "version": 3
   },
   "file_extension": ".py",
   "mimetype": "text/x-python",
   "name": "python",
   "nbconvert_exporter": "python",
   "pygments_lexer": "ipython3",
   "version": "3.9.7"
  },
  "orig_nbformat": 4,
  "vscode": {
   "interpreter": {
    "hash": "93d68e46dea65209a5c21138396ab318ec94a0c39b7a7507db7e5d41daed361b"
   }
  }
 },
 "nbformat": 4,
 "nbformat_minor": 2
}
