{
 "cells": [
  {
   "cell_type": "markdown",
   "metadata": {},
   "source": [
    "### Calc maco nutrient targets in grams\n",
    "that fit into totalm calore target when protein is held constant "
   ]
  },
  {
   "cell_type": "markdown",
   "metadata": {},
   "source": [
    "##### Percentage calories recommendations\n",
    "Percentages for oldsters cam from here [here](https://med.libretexts.org/Courses/Metropolitan_State_University_of_Denver/Introduction_to_Nutrition_(Diker)/13:_Lifecycle_Nutrition:_Childhood_to_Late_Adulthood/13.07:_Old_Age_and_Nutrition); cals/Gram from [here](https://www.healthline.com/nutrition/what-are-macronutrients#what-they-are)"
   ]
  },
  {
   "cell_type": "code",
   "execution_count": null,
   "metadata": {},
   "outputs": [],
   "source": [
    "from icecream import ic\n",
    "import pandas as pd\n",
    "totalCalTarg = 1500\n",
    "proteinTargGrm = 100\n",
    "\n",
    "macroInfo = pd.DataFrame(dict(macro=['carbs', 'protein','fat'], \n",
    "                              minFracCal=[45, 10, 20], \n",
    "                              maxFracCal=[65, 35, 35])).set_index('macro')\n",
    "macroInfo['mnFracCal'] = macroInfo.mean(axis=1)\n",
    "macroInfo['calsPerGrm']=[4, 4, 9]"
   ]
  },
  {
   "cell_type": "markdown",
   "metadata": {},
   "source": [
    "### Prompt (NOT DONE: WORK ON THIS, maybe just do this in arrays)\n",
    "\n",
    "macroInfo contains calorie information for three macro nutrients: carbs, protein, and fat.  The calories consumed for each macro is the vector, calsConsumed:\n",
    "\n",
    "calsConsumed = (gramsConsumed  * macroInfo.calsPerGrm)\n",
    "\n",
    "where gramsConsumed is a pd.Series of consumed calories for carbs, protein and fat, in that order.  \n",
    "\n",
    "The total calories consumed is calsConsumedTot\n",
    "\n",
    "calsConsumedTot = calsConsumed.sum()\n",
    "\n",
    "The fraction of total calories consumed of each macro is Consumed\n",
    "\n",
    "calsConsumedTotFrac = calsConsumed / calsConsumedTot\n",
    "\n",
    "Given a positive constants, targProteinConsumed, and calsConsumedTotTarg, find an optimal gramsConsumed.\n",
    "\n",
    "Constraints:\n",
    "\n",
    "gramsConsumed.protein = targProteinConsumed\n",
    "macroInfo.loc['protein','minFracCal'] = \n",
    "\n",
    "Optimality is defined as\n",
    "\n",
    "calsConsumedTotFrac is the least mean squared fit to macroInfo.mnFracCal\n",
    "\n",
    "\n",
    "\n",
    "\n",
    "\n"
   ]
  },
  {
   "cell_type": "code",
   "execution_count": 18,
   "metadata": {},
   "outputs": [
    {
     "name": "stderr",
     "output_type": "stream",
     "text": [
      "ic| calsConsumed: macro\n",
      "                  carbs      400\n",
      "                  protein    520\n",
      "                  fat        585\n",
      "                  dtype: int64\n",
      "    calsConsumedTot: 1505\n"
     ]
    }
   ],
   "source": [
    "gramsConsumed = pd.Series(dict(carbs=100, protein=130, fat=65))\n",
    "\n",
    "calsConsumed = (macroInfo.calsPerGrm * gramsConsumed)\n",
    "\n",
    "calsConsumedTot = calsConsumed.sum()\n",
    "\n",
    "ic(calsConsumed, calsConsumedTot);\n",
    "\n"
   ]
  },
  {
   "cell_type": "code",
   "execution_count": null,
   "metadata": {},
   "outputs": [],
   "source": []
  }
 ],
 "metadata": {
  "kernelspec": {
   "display_name": "base",
   "language": "python",
   "name": "python3"
  },
  "language_info": {
   "codemirror_mode": {
    "name": "ipython",
    "version": 3
   },
   "file_extension": ".py",
   "mimetype": "text/x-python",
   "name": "python",
   "nbconvert_exporter": "python",
   "pygments_lexer": "ipython3",
   "version": "3.12.5"
  }
 },
 "nbformat": 4,
 "nbformat_minor": 2
}
